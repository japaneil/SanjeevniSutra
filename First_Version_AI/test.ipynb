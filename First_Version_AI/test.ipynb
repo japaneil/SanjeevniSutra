{
 "cells": [
  {
   "cell_type": "code",
   "execution_count": 33,
   "id": "a98043f7-5be1-4ad1-96a8-c0ba1fb55dbf",
   "metadata": {},
   "outputs": [],
   "source": [
    "import tensorflow as tf\n",
    "import pandas as pd\n",
    "from keras import utils\n",
    "from sklearn.preprocessing import LabelEncoder"
   ]
  },
  {
   "cell_type": "code",
   "execution_count": 36,
   "id": "9903cc96-805d-4632-b826-2e75d727b7c3",
   "metadata": {},
   "outputs": [],
   "source": [
    "# Load the model\n",
    "model = tf.keras.models.load_model(\"saves/First/first_iterations.keras\")"
   ]
  },
  {
   "cell_type": "code",
   "execution_count": 37,
   "id": "fab11fa1-c993-4a9b-ba43-70e0891ba6b8",
   "metadata": {},
   "outputs": [],
   "source": [
    "# Load dataset\n",
    "dataframe = pd.read_csv(\"vital_signs_dataset_Test.csv\", header=None)\n",
    "dataset = dataframe.values"
   ]
  },
  {
   "cell_type": "code",
   "execution_count": 38,
   "id": "378cdbc2-9f42-4d85-b3ec-c83b53ece3db",
   "metadata": {},
   "outputs": [],
   "source": [
    "# Prepare features and labels\n",
    "X = dataset[1:, 0:5].astype(float)\n",
    "y = dataset[1:, 5]"
   ]
  },
  {
   "cell_type": "code",
   "execution_count": 39,
   "id": "7760e8d4-6cd4-4863-aae8-e652856d0ef1",
   "metadata": {},
   "outputs": [],
   "source": [
    "# Encode class values as integers\n",
    "encoder = LabelEncoder()\n",
    "encoder.fit(y)\n",
    "encoded_Y = encoder.transform(y)"
   ]
  },
  {
   "cell_type": "code",
   "execution_count": 44,
   "id": "5d25fb96-baeb-42fd-9f26-b4715aa07742",
   "metadata": {},
   "outputs": [],
   "source": [
    "# Convert integers to dummy variables (one-hot encoding)\n",
    "dummy_y = utils.to_categorical(encoded_Y)"
   ]
  },
  {
   "cell_type": "code",
   "execution_count": 45,
   "id": "230fa456-d554-4065-8898-c951162c8b90",
   "metadata": {},
   "outputs": [],
   "source": [
    "# Evaluate the model with one-hot encoded labels\n",
    "scores = model.evaluate(X, dummy_y, verbose=0)"
   ]
  },
  {
   "cell_type": "code",
   "execution_count": 46,
   "id": "f7ef2423-749b-4247-9d3f-dc24433c590f",
   "metadata": {},
   "outputs": [
    {
     "name": "stdout",
     "output_type": "stream",
     "text": [
      "Loss: 3.18866e-05, Accuracy: 100.00%\n"
     ]
    }
   ],
   "source": [
    "# Assuming scores is a list where scores[0] is the loss and scores[1] is the accuracy\n",
    "loss = scores[0]\n",
    "accuracy = scores[1]\n",
    "\n",
    "# Format the loss and accuracy\n",
    "formatted_loss = f\"{loss:.5e}\"  # Scientific notation with 5 decimal places\n",
    "formatted_accuracy = f\"{accuracy:.2%}\"  # Percentage format with 2 decimal places\n",
    "\n",
    "# Print the results\n",
    "print(f\"Loss: {formatted_loss}, Accuracy: {formatted_accuracy}\")"
   ]
  },
  {
   "cell_type": "code",
   "execution_count": null,
   "id": "c2bbc2f8-69e8-4b7d-abf5-560087ad003c",
   "metadata": {},
   "outputs": [],
   "source": []
  }
 ],
 "metadata": {
  "kernelspec": {
   "display_name": "Python 3 (ipykernel)",
   "language": "python",
   "name": "python3"
  },
  "language_info": {
   "codemirror_mode": {
    "name": "ipython",
    "version": 3
   },
   "file_extension": ".py",
   "mimetype": "text/x-python",
   "name": "python",
   "nbconvert_exporter": "python",
   "pygments_lexer": "ipython3",
   "version": "3.12.5"
  }
 },
 "nbformat": 4,
 "nbformat_minor": 5
}
