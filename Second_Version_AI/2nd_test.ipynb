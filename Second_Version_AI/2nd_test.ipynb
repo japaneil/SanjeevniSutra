{
 "cells": [
  {
   "cell_type": "code",
   "execution_count": 24,
   "id": "a98043f7-5be1-4ad1-96a8-c0ba1fb55dbf",
   "metadata": {},
   "outputs": [],
   "source": [
    "import tensorflow as tf\n",
    "import pandas as pd\n",
    "import numpy as np\n",
    "from keras import utils\n",
    "from sklearn.preprocessing import LabelEncoder\n",
    "from sklearn.utils import shuffle "
   ]
  },
  {
   "cell_type": "code",
   "execution_count": 25,
   "id": "9903cc96-805d-4632-b826-2e75d727b7c3",
   "metadata": {},
   "outputs": [],
   "source": [
    "# Load the model\n",
    "model = tf.keras.models.load_model(\"Version-1/saves/first_iterations.keras\")"
   ]
  },
  {
   "cell_type": "code",
   "execution_count": 54,
   "id": "fab11fa1-c993-4a9b-ba43-70e0891ba6b8",
   "metadata": {},
   "outputs": [],
   "source": [
    "# Load dataset\n",
    "dataframe = pd.read_csv(\"vital_signs_dataset_Test.csv\", header=None)\n",
    "dataset = dataframe.values"
   ]
  },
  {
   "cell_type": "code",
   "execution_count": 55,
   "id": "378cdbc2-9f42-4d85-b3ec-c83b53ece3db",
   "metadata": {},
   "outputs": [],
   "source": [
    "# Prepare features and labels\n",
    "X = dataset[1:, 0:5].astype(float)  # Exclude the first row and select features\n",
    "y = dataset[1:, 5]  # Target variable"
   ]
  },
  {
   "cell_type": "code",
   "execution_count": 56,
   "id": "d33ff704-9f68-4996-8c72-1cc8abe7d275",
   "metadata": {},
   "outputs": [],
   "source": [
    "# Shuffle the features and target together\n",
    "X, y = shuffle(X, y)  # Shuffle features and labels together"
   ]
  },
  {
   "cell_type": "code",
   "execution_count": 57,
   "id": "7760e8d4-6cd4-4863-aae8-e652856d0ef1",
   "metadata": {},
   "outputs": [],
   "source": [
    "# Encode class values as integers\n",
    "encoder = LabelEncoder()\n",
    "encoder.fit(y)\n",
    "encoded_Y = encoder.transform(y)"
   ]
  },
  {
   "cell_type": "code",
   "execution_count": 58,
   "id": "5d25fb96-baeb-42fd-9f26-b4715aa07742",
   "metadata": {},
   "outputs": [],
   "source": [
    "# Convert integers to dummy variables (one-hot encoding)\n",
    "dummy_y = utils.to_categorical(encoded_Y)"
   ]
  },
  {
   "cell_type": "code",
   "execution_count": 59,
   "id": "230fa456-d554-4065-8898-c951162c8b90",
   "metadata": {},
   "outputs": [],
   "source": [
    "# Evaluate the model with one-hot encoded labels\n",
    "scores = model.evaluate(X, dummy_y, verbose=0)"
   ]
  },
  {
   "cell_type": "code",
   "execution_count": 60,
   "id": "f7ef2423-749b-4247-9d3f-dc24433c590f",
   "metadata": {},
   "outputs": [
    {
     "name": "stdout",
     "output_type": "stream",
     "text": [
      "Loss: 3.18866e-05, Accuracy: 100.00%\n"
     ]
    }
   ],
   "source": [
    "# Assuming scores is a list where scores[0] is the loss and scores[1] is the accuracy\n",
    "loss = scores[0]\n",
    "accuracy = scores[1]\n",
    "\n",
    "# Format the loss and accuracy\n",
    "formatted_loss = f\"{loss:.5e}\"  # Scientific notation with 5 decimal places\n",
    "formatted_accuracy = f\"{accuracy:.2%}\"  # Percentage format with 2 decimal places\n",
    "\n",
    "# Print the results\n",
    "print(f\"Loss: {formatted_loss}, Accuracy: {formatted_accuracy}\")"
   ]
  },
  {
   "cell_type": "code",
   "execution_count": 61,
   "id": "c2bbc2f8-69e8-4b7d-abf5-560087ad003c",
   "metadata": {},
   "outputs": [
    {
     "name": "stdout",
     "output_type": "stream",
     "text": [
      "\u001b[1m8/8\u001b[0m \u001b[32m━━━━━━━━━━━━━━━━━━━━\u001b[0m\u001b[37m\u001b[0m \u001b[1m0s\u001b[0m 0s/step  \n"
     ]
    }
   ],
   "source": [
    "# Make predictions\n",
    "predictions = model.predict(X)\n",
    "\n",
    "# Convert predictions from probabilities to class labels\n",
    "predicted_classes = np.argmax(predictions, axis=1)"
   ]
  },
  {
   "cell_type": "code",
   "execution_count": 62,
   "id": "74640f7f-7e98-4439-9a28-cbf1f0bc1015",
   "metadata": {},
   "outputs": [],
   "source": [
    "# Convert predicted classes back to original labels\n",
    "original_labels = encoder.inverse_transform(predicted_classes)"
   ]
  },
  {
   "cell_type": "code",
   "execution_count": 63,
   "id": "c224904a-bb90-4760-a8d3-3746e17e8e71",
   "metadata": {},
   "outputs": [],
   "source": [
    "# Display the predictions alongside the original input data\n",
    "results = pd.DataFrame(data={\n",
    "    'Feature1': X[:, 0],\n",
    "    'Feature2': X[:, 1],\n",
    "    'Feature3': X[:, 2],\n",
    "    'Feature4': X[:, 3],\n",
    "    'Feature5': X[:, 4],\n",
    "    'Predicted Class': original_labels\n",
    "})\n"
   ]
  },
  {
   "cell_type": "code",
   "execution_count": 64,
   "id": "49f0da38-b920-40d9-8270-25bcbed5a651",
   "metadata": {},
   "outputs": [
    {
     "name": "stdout",
     "output_type": "stream",
     "text": [
      "     Feature1  Feature2  Feature3   Feature4   Feature5 Predicted Class\n",
      "0       132.0     139.0      98.0  88.695954  37.682796    Heart Attack\n",
      "1        62.0     117.0      64.0  98.956323  37.479242          Normal\n",
      "2        73.0      96.0      67.0  96.000992  37.122609          Normal\n",
      "3       117.0     145.0     107.0  87.499435  37.613958    Heart Attack\n",
      "4        60.0     113.0      63.0  99.465266  37.143575          Normal\n",
      "..        ...       ...       ...        ...        ...             ...\n",
      "245      83.0      98.0      65.0  99.673213  36.953165          Normal\n",
      "246     134.0     137.0     104.0  85.047308  37.956914    Heart Attack\n",
      "247     139.0     145.0      92.0  85.516370  38.282397    Heart Attack\n",
      "248     109.0     140.0     107.0  86.095772  38.381371    Heart Attack\n",
      "249      60.0     100.0      79.0  98.079584  36.920491          Normal\n",
      "\n",
      "[250 rows x 6 columns]\n"
     ]
    }
   ],
   "source": [
    "print(results)"
   ]
  },
  {
   "cell_type": "code",
   "execution_count": null,
   "id": "8afb64ae-91d7-49e9-87bd-6bbda79692cd",
   "metadata": {},
   "outputs": [],
   "source": []
  }
 ],
 "metadata": {
  "kernelspec": {
   "display_name": "Python 3 (ipykernel)",
   "language": "python",
   "name": "python3"
  },
  "language_info": {
   "codemirror_mode": {
    "name": "ipython",
    "version": 3
   },
   "file_extension": ".py",
   "mimetype": "text/x-python",
   "name": "python",
   "nbconvert_exporter": "python",
   "pygments_lexer": "ipython3",
   "version": "3.12.5"
  }
 },
 "nbformat": 4,
 "nbformat_minor": 5
}
